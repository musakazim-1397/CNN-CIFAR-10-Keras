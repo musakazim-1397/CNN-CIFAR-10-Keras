{
 "cells": [
  {
   "cell_type": "code",
   "execution_count": 1,
   "metadata": {},
   "outputs": [],
   "source": [
    "import numpy as np\n",
    "import pandas as pd\n",
    "import matplotlib.pyplot as plt"
   ]
  },
  {
   "cell_type": "code",
   "execution_count": 15,
   "metadata": {},
   "outputs": [],
   "source": [
    "from tensorflow import keras\n",
    "from keras.datasets import cifar10\n",
    "\n",
    "(x_train, y_train), (x_test, y_test) = cifar10.load_data()"
   ]
  },
  {
   "cell_type": "code",
   "execution_count": 3,
   "metadata": {},
   "outputs": [
    {
     "data": {
      "text/plain": [
       "(50000, 32, 32, 3)"
      ]
     },
     "execution_count": 3,
     "metadata": {},
     "output_type": "execute_result"
    }
   ],
   "source": [
    "x_train.shape"
   ]
  },
  {
   "cell_type": "code",
   "execution_count": 4,
   "metadata": {},
   "outputs": [
    {
     "data": {
      "text/plain": [
       "(10000, 32, 32, 3)"
      ]
     },
     "execution_count": 4,
     "metadata": {},
     "output_type": "execute_result"
    }
   ],
   "source": [
    "x_test.shape"
   ]
  },
  {
   "cell_type": "code",
   "execution_count": 5,
   "metadata": {},
   "outputs": [
    {
     "data": {
      "text/plain": [
       "<matplotlib.image.AxesImage at 0x27c1bb52e60>"
      ]
     },
     "execution_count": 5,
     "metadata": {},
     "output_type": "execute_result"
    },
    {
     "data": {
      "image/png": "[encoded data removed]",
      "text/plain": [
       "<Figure size 640x480 with 1 Axes>"
      ]
     },
     "metadata": {},
     "output_type": "display_data"
    }
   ],
   "source": [
    "plt.imshow(x_test[0])"
   ]
  },
  {
   "cell_type": "code",
   "execution_count": 16,
   "metadata": {},
   "outputs": [
    {
     "data": {
      "text/plain": [
       "(10000, 1)"
      ]
     },
     "execution_count": 16,
     "metadata": {},
     "output_type": "execute_result"
    }
   ],
   "source": [
    "y_test.shape"
   ]
  },
  {
   "cell_type": "code",
   "execution_count": 17,
   "metadata": {},
   "outputs": [
    {
     "data": {
      "text/plain": [
       "array([[3],\n",
       "       [8],\n",
       "       [8],\n",
       "       ...,\n",
       "       [5],\n",
       "       [1],\n",
       "       [7]], dtype=uint8)"
      ]
     },
     "execution_count": 17,
     "metadata": {},
     "output_type": "execute_result"
    }
   ],
   "source": [
    "y_test"
   ]
  },
  {
   "attachments": {},
   "cell_type": "markdown",
   "metadata": {},
   "source": [
    "we need to one hot encode the labels"
   ]
  },
  {
   "cell_type": "code",
   "execution_count": 18,
   "metadata": {},
   "outputs": [],
   "source": [
    "from keras.utils import to_categorical\n",
    "y_cat_test= to_categorical(y_test,10)\n",
    "y_cat_train= to_categorical(y_train,10)"
   ]
  },
  {
   "cell_type": "code",
   "execution_count": 11,
   "metadata": {},
   "outputs": [],
   "source": [
    "#normalizing our input\n",
    "# from sklearn.preprocessing import MinMaxScaler\n",
    "# scaler = MinMaxScaler()\n",
    "# x_train= scaler.fit_transform(x_train)\n",
    "# x_test= scaler.transform(x_test)\n",
    "\n",
    "#it's better to just divide x_train and x_test by 255 because MinMaxScaler can only accept <=2 args.\n",
    "x_train= x_train/255\n",
    "x_test= x_test/255\n"
   ]
  },
  {
   "cell_type": "code",
   "execution_count": 12,
   "metadata": {},
   "outputs": [
    {
     "data": {
      "text/plain": [
       "(50000, 32, 32, 3)"
      ]
     },
     "execution_count": 12,
     "metadata": {},
     "output_type": "execute_result"
    }
   ],
   "source": [
    "x_train.shape"
   ]
  },
  {
   "attachments": {},
   "cell_type": "markdown",
   "metadata": {},
   "source": [
    "Now we move to creating our CNN"
   ]
  },
  {
   "cell_type": "code",
   "execution_count": 14,
   "metadata": {},
   "outputs": [],
   "source": [
    "from keras.models import Sequential\n",
    "from keras.layers import Dense, Conv2D, MaxPool2D, Flatten\n",
    "\n",
    "model = Sequential()\n",
    "\n",
    "model.add(Conv2D(32, (4,4), input_shape=(x_train.shape[1:]), activation='relu'))\n",
    "model.add(MaxPool2D())\n",
    "model.add(Conv2D(32, (4,4), input_shape=(x_train.shape[1:]), activation='relu'))\n",
    "model.add(MaxPool2D())\n",
    "model.add(Conv2D(32, (4,4), input_shape=(x_train.shape[1:]), activation='relu'))\n",
    "model.add(MaxPool2D())\n",
    "\n",
    "model.add(Flatten())\n",
    "model.add(Dense(256,activation='relu'))\n",
    "model.add(Dense(10, activation='softmax'))\n",
    "\n",
    "model.compile(loss='categorical_crossentropy', optimizer='adam', metrics=['accuracy'])\n",
    "\n"
   ]
  },
  {
   "cell_type": "code",
   "execution_count": 19,
   "metadata": {},
   "outputs": [
    {
     "name": "stdout",
     "output_type": "stream",
     "text": [
      "Epoch 1/15\n",
      "1563/1563 [==============================] - 81s 50ms/step - loss: 1.7479 - accuracy: 0.3644 - val_loss: 1.5026 - val_accuracy: 0.4494\n",
      "Epoch 2/15\n",
      "1563/1563 [==============================] - 81s 52ms/step - loss: 1.4782 - accuracy: 0.4643 - val_loss: 1.4422 - val_accuracy: 0.4871\n",
      "Epoch 3/15\n",
      "1563/1563 [==============================] - 78s 50ms/step - loss: 1.3716 - accuracy: 0.5093 - val_loss: 1.4797 - val_accuracy: 0.4642\n",
      "Epoch 4/15\n",
      "1563/1563 [==============================] - 80s 51ms/step - loss: 1.2970 - accuracy: 0.5369 - val_loss: 1.3866 - val_accuracy: 0.5186\n",
      "Epoch 5/15\n",
      "1563/1563 [==============================] - 79s 50ms/step - loss: 1.2398 - accuracy: 0.5598 - val_loss: 1.3193 - val_accuracy: 0.5312\n",
      "Epoch 6/15\n",
      "1563/1563 [==============================] - 80s 51ms/step - loss: 1.1920 - accuracy: 0.5799 - val_loss: 1.2569 - val_accuracy: 0.5557\n",
      "Epoch 7/15\n",
      "1563/1563 [==============================] - 80s 51ms/step - loss: 1.1532 - accuracy: 0.5979 - val_loss: 1.2973 - val_accuracy: 0.5548\n",
      "Epoch 8/15\n",
      "1563/1563 [==============================] - 80s 51ms/step - loss: 1.1212 - accuracy: 0.6064 - val_loss: 1.1463 - val_accuracy: 0.5969\n",
      "Epoch 9/15\n",
      "1563/1563 [==============================] - 81s 52ms/step - loss: 1.0892 - accuracy: 0.6195 - val_loss: 1.1715 - val_accuracy: 0.5922\n",
      "Epoch 10/15\n",
      "1563/1563 [==============================] - 82s 53ms/step - loss: 1.0682 - accuracy: 0.6261 - val_loss: 1.1636 - val_accuracy: 0.6020\n",
      "Epoch 11/15\n",
      "1563/1563 [==============================] - 81s 52ms/step - loss: 1.0466 - accuracy: 0.6370 - val_loss: 1.1656 - val_accuracy: 0.6047\n"
     ]
    },
    {
     "data": {
      "text/plain": [
       "<keras.callbacks.History at 0x27c24f426e0>"
      ]
     },
     "execution_count": 19,
     "metadata": {},
     "output_type": "execute_result"
    }
   ],
   "source": [
    "from keras.callbacks import EarlyStopping\n",
    "early_stopping = EarlyStopping(patience=3, mode='min')\n",
    "model.fit(x_train, y_cat_train, epochs=15, callbacks=[early_stopping], validation_data=(x_test, y_cat_test))"
   ]
  },
  {
   "cell_type": "code",
   "execution_count": 20,
   "metadata": {},
   "outputs": [
    {
     "data": {
      "text/plain": [
       "<AxesSubplot: >"
      ]
     },
     "execution_count": 20,
     "metadata": {},
     "output_type": "execute_result"
    },
    {
     "data": {
      "image/png": "[encoded data removed]",
      "text/plain": [
       "<Figure size 640x480 with 1 Axes>"
      ]
     },
     "metadata": {},
     "output_type": "display_data"
    }
   ],
   "source": [
    "metrics_df= pd.DataFrame(model.history.history)\n",
    "metrics_df[['loss', 'val_loss']].plot()"
   ]
  },
  {
   "cell_type": "code",
   "execution_count": 21,
   "metadata": {},
   "outputs": [
    {
     "name": "stdout",
     "output_type": "stream",
     "text": [
      "313/313 [==============================] - 5s 15ms/step\n"
     ]
    }
   ],
   "source": [
    "predictions= np.argmax(model.predict(x_test), axis=-1)"
   ]
  },
  {
   "cell_type": "code",
   "execution_count": 22,
   "metadata": {},
   "outputs": [
    {
     "name": "stdout",
     "output_type": "stream",
     "text": [
      "              precision    recall  f1-score   support\n",
      "\n",
      "           0       0.62      0.66      0.64      1000\n",
      "           1       0.73      0.77      0.75      1000\n",
      "           2       0.44      0.61      0.51      1000\n",
      "           3       0.42      0.40      0.41      1000\n",
      "           4       0.65      0.42      0.52      1000\n",
      "           5       0.49      0.60      0.54      1000\n",
      "           6       0.71      0.64      0.68      1000\n",
      "           7       0.69      0.66      0.67      1000\n",
      "           8       0.69      0.66      0.67      1000\n",
      "           9       0.73      0.63      0.68      1000\n",
      "\n",
      "    accuracy                           0.60     10000\n",
      "   macro avg       0.62      0.60      0.61     10000\n",
      "weighted avg       0.62      0.60      0.61     10000\n",
      "\n"
     ]
    }
   ],
   "source": [
    "from sklearn.metrics import classification_report\n",
    "print(classification_report(y_test, predictions))"
   ]
  },
  {
   "attachments": {},
   "cell_type": "markdown",
   "metadata": {},
   "source": [
    "predicting a given image"
   ]
  },
  {
   "cell_type": "code",
   "execution_count": 23,
   "metadata": {},
   "outputs": [
    {
     "data": {
      "text/plain": [
       "(32, 32, 3)"
      ]
     },
     "execution_count": 23,
     "metadata": {},
     "output_type": "execute_result"
    }
   ],
   "source": [
    "my_img= x_test[16]\n",
    "my_img.shape"
   ]
  },
  {
   "cell_type": "code",
   "execution_count": 24,
   "metadata": {},
   "outputs": [],
   "source": [
    "my_img= my_img/255"
   ]
  },
  {
   "cell_type": "code",
   "execution_count": 25,
   "metadata": {},
   "outputs": [
    {
     "data": {
      "text/plain": [
       "<matplotlib.image.AxesImage at 0x27c266cc310>"
      ]
     },
     "execution_count": 25,
     "metadata": {},
     "output_type": "execute_result"
    },
    {
     "data": {
      "image/png": "[encoded data removed]",
      "text/plain": [
       "<Figure size 640x480 with 1 Axes>"
      ]
     },
     "metadata": {},
     "output_type": "display_data"
    }
   ],
   "source": [
    "plt.imshow(my_img)"
   ]
  },
  {
   "cell_type": "code",
   "execution_count": 30,
   "metadata": {},
   "outputs": [
    {
     "name": "stdout",
     "output_type": "stream",
     "text": [
      "1/1 [==============================] - 0s 152ms/step\n"
     ]
    },
    {
     "data": {
      "text/plain": [
       "4"
      ]
     },
     "execution_count": 30,
     "metadata": {},
     "output_type": "execute_result"
    }
   ],
   "source": [
    "np.argmax(model.predict(my_img.reshape(1,32,32,3)))"
   ]
  },
  {
   "cell_type": "code",
   "execution_count": 27,
   "metadata": {},
   "outputs": [
    {
     "data": {
      "text/plain": [
       "(32, 32, 3)"
      ]
     },
     "execution_count": 27,
     "metadata": {},
     "output_type": "execute_result"
    }
   ],
   "source": [
    "x_test[16].shape"
   ]
  },
  {
   "cell_type": "code",
   "execution_count": 28,
   "metadata": {},
   "outputs": [
    {
     "data": {
      "text/plain": [
       "array([[[ 95,  76,  78],\n",
       "        [ 92,  77,  78],\n",
       "        [ 89,  77,  77],\n",
       "        ...,\n",
       "        [ 30,  28,  38],\n",
       "        [175, 183, 191],\n",
       "        [225, 234, 240]],\n",
       "\n",
       "       [[ 90,  71,  73],\n",
       "        [ 86,  72,  72],\n",
       "        [ 83,  71,  71],\n",
       "        ...,\n",
       "        [  0,   0,  13],\n",
       "        [ 60,  63,  79],\n",
       "        [165, 171, 189]],\n",
       "\n",
       "       [[ 88,  69,  71],\n",
       "        [ 84,  70,  70],\n",
       "        [ 82,  70,  70],\n",
       "        ...,\n",
       "        [  5,   0,  12],\n",
       "        [ 24,  26,  48],\n",
       "        [127, 139, 165]],\n",
       "\n",
       "       ...,\n",
       "\n",
       "       [[203, 176, 161],\n",
       "        [213, 175, 156],\n",
       "        [202, 165, 155],\n",
       "        ...,\n",
       "        [182, 183, 189],\n",
       "        [118, 120, 125],\n",
       "        [ 37,  32,  46]],\n",
       "\n",
       "       [[123,  94,  90],\n",
       "        [210, 170, 157],\n",
       "        [211, 171, 160],\n",
       "        ...,\n",
       "        [116, 116, 120],\n",
       "        [ 44,  45,  47],\n",
       "        [ 11,   3,  15]],\n",
       "\n",
       "       [[102,  85,  84],\n",
       "        [208, 183, 175],\n",
       "        [215, 186, 176],\n",
       "        ...,\n",
       "        [ 37,  33,  43],\n",
       "        [ 17,  13,  22],\n",
       "        [ 22,  11,  28]]], dtype=uint8)"
      ]
     },
     "execution_count": 28,
     "metadata": {},
     "output_type": "execute_result"
    }
   ],
   "source": [
    "x_test[16]"
   ]
  },
  {
   "cell_type": "code",
   "execution_count": 29,
   "metadata": {},
   "outputs": [
    {
     "data": {
      "text/plain": [
       "array([[[0.37254902, 0.29803922, 0.30588235],\n",
       "        [0.36078431, 0.30196078, 0.30588235],\n",
       "        [0.34901961, 0.30196078, 0.30196078],\n",
       "        ...,\n",
       "        [0.11764706, 0.10980392, 0.14901961],\n",
       "        [0.68627451, 0.71764706, 0.74901961],\n",
       "        [0.88235294, 0.91764706, 0.94117647]],\n",
       "\n",
       "       [[0.35294118, 0.27843137, 0.28627451],\n",
       "        [0.3372549 , 0.28235294, 0.28235294],\n",
       "        [0.3254902 , 0.27843137, 0.27843137],\n",
       "        ...,\n",
       "        [0.        , 0.        , 0.05098039],\n",
       "        [0.23529412, 0.24705882, 0.30980392],\n",
       "        [0.64705882, 0.67058824, 0.74117647]],\n",
       "\n",
       "       [[0.34509804, 0.27058824, 0.27843137],\n",
       "        [0.32941176, 0.2745098 , 0.2745098 ],\n",
       "        [0.32156863, 0.2745098 , 0.2745098 ],\n",
       "        ...,\n",
       "        [0.01960784, 0.        , 0.04705882],\n",
       "        [0.09411765, 0.10196078, 0.18823529],\n",
       "        [0.49803922, 0.54509804, 0.64705882]],\n",
       "\n",
       "       ...,\n",
       "\n",
       "       [[0.79607843, 0.69019608, 0.63137255],\n",
       "        [0.83529412, 0.68627451, 0.61176471],\n",
       "        [0.79215686, 0.64705882, 0.60784314],\n",
       "        ...,\n",
       "        [0.71372549, 0.71764706, 0.74117647],\n",
       "        [0.4627451 , 0.47058824, 0.49019608],\n",
       "        [0.14509804, 0.1254902 , 0.18039216]],\n",
       "\n",
       "       [[0.48235294, 0.36862745, 0.35294118],\n",
       "        [0.82352941, 0.66666667, 0.61568627],\n",
       "        [0.82745098, 0.67058824, 0.62745098],\n",
       "        ...,\n",
       "        [0.45490196, 0.45490196, 0.47058824],\n",
       "        [0.17254902, 0.17647059, 0.18431373],\n",
       "        [0.04313725, 0.01176471, 0.05882353]],\n",
       "\n",
       "       [[0.4       , 0.33333333, 0.32941176],\n",
       "        [0.81568627, 0.71764706, 0.68627451],\n",
       "        [0.84313725, 0.72941176, 0.69019608],\n",
       "        ...,\n",
       "        [0.14509804, 0.12941176, 0.16862745],\n",
       "        [0.06666667, 0.05098039, 0.08627451],\n",
       "        [0.08627451, 0.04313725, 0.10980392]]])"
      ]
     },
     "execution_count": 29,
     "metadata": {},
     "output_type": "execute_result"
    }
   ],
   "source": [
    "my_img"
   ]
  },
  {
   "cell_type": "code",
   "execution_count": 31,
   "metadata": {},
   "outputs": [
    {
     "data": {
      "text/plain": [
       "(10000, 32, 32, 3)"
      ]
     },
     "execution_count": 31,
     "metadata": {},
     "output_type": "execute_result"
    }
   ],
   "source": [
    "x_test.shape"
   ]
  },
  {
   "cell_type": "code",
   "execution_count": null,
   "metadata": {},
   "outputs": [],
   "source": []
  }
 ],
 "metadata": {
  "kernelspec": {
   "display_name": "Python 3",
   "language": "python",
   "name": "python3"
  },
  "language_info": {
   "codemirror_mode": {
    "name": "ipython",
    "version": 3
   },
   "file_extension": ".py",
   "mimetype": "text/x-python",
   "name": "python",
   "nbconvert_exporter": "python",
   "pygments_lexer": "ipython3",
   "version": "3.10.7"
  },
  "orig_nbformat": 4,
  "vscode": {
   "interpreter": {
    "hash": "369f2c481f4da34e4445cda3fffd2e751bd1c4d706f27375911949ba6bb62e1c"
   }
  }
 },
 "nbformat": 4,
 "nbformat_minor": 2
}
